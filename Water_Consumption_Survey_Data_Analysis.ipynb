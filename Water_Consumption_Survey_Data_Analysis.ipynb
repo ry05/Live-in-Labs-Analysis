{
  "nbformat": 4,
  "nbformat_minor": 0,
  "metadata": {
    "colab": {
      "name": "Water Consumption Survey Data Analysis.ipynb",
      "provenance": [],
      "toc_visible": true
    },
    "kernelspec": {
      "name": "python3",
      "display_name": "Python 3"
    }
  },
  "cells": [
    {
      "cell_type": "markdown",
      "metadata": {
        "id": "E3NZYJYSwFJA",
        "colab_type": "text"
      },
      "source": [
        "# Live-in-Labs Water Consumption Survey Data Analyis\n",
        "An in-depth analysis of the survey conducted by Team Analytica in the Indian village of Dodeneer to understand the causes of water stress in the region\n",
        "\n",
        "### What is Live in Labs?\n",
        "Live-in-Labs® is a multidisciplinary experiential learning program that breaks classroom and lab barriers by applying learned theory in real-world settings. This credit-based academic program draws on principles of lean research for the development and deployment of sustainable solutions for current challenges faced by rural communities in India. By directly living in rural communities (labs) and co-designing solutions to development challenges, program participants gain first-hand knowledge and know-how of identifying and assessing community needs and subsequently developing and implementing viable solutions through various participatory methods.\n",
        "\n",
        "**Source:**  https://www.amrita.edu/international/live-in-labs"
      ]
    },
    {
      "cell_type": "markdown",
      "metadata": {
        "id": "y0e-NEKFdJzV",
        "colab_type": "text"
      },
      "source": [
        "### Why did we conduct this survey?\n",
        "In the first 4 days of our brief 7-day visit to the village, we spent our time observing the lifestyle of the villagers. We used strategies such as Participatory Rural Analysis(PRA) to identify the most prevalent issues in the village. Through the use of PRA related tools such as venn diagrams, resource maps and problem trees, we \n",
        "were able to draw a detailed picture of the needs of the village and **Water was shaping up as an area of concern**.<br>\n",
        "\n",
        "Furthermore, through the interviews of the villagers and their personas, we realized that water was a significant area of concern and that the villagers had a lot to complain about when the thematic area in consideration was water.<br>\n",
        "\n",
        "Next, **we needed to come up with a means to corroborate our finds through the PRA framework and the village interviews. Also, it was important for us to identify the main causes of the water shortage(if there was any)**. In order to achieve these two purposes, the data scientist in me decided to conduct a survey where we would collect data from each household in the village and use it to validate and quantify the amount of water-related stress in the village.\n",
        "\n",
        "### The Survey Methodology\n",
        "\n",
        "#### Main Research Question\n",
        "Are the people of Dodeneer suffering from acute water shortage?\n",
        "\n",
        "#### How was the survey conducted?\n",
        "* The survey was conducted as in-person interviews where a pre-prepared questionnaire was used as a reference\n",
        "* The data was first collected by the team on paper and then it was entered into a spreadsheet\n",
        "\n",
        "#### The Questionnaire\n",
        "The following questions were asked to each household as a part of our survey :\n",
        "* What is the medium of water storage in the house?(Tank or Sump or buckets or cans)\n",
        "* What is a rough estimate of the capacity of the water used by the house per day?\n",
        "* Does the house have an underground motor(to pump up water)?\n",
        "* Does the household receive water from the Thariyal water supply, from the in-village borewell source or from both?\n",
        "* If a household receives water from both sources, which source provides a larger amount of water?\n",
        "* How many members live in the house?\n",
        "\n",
        "**Language of Interview :** These questions were asked in the regional languages(Punjabi and Hindi) to the people.<br>\n",
        "**Extra Help :** The team was also helped by a local guide to help us with the interactions with the villagers\n",
        "\n",
        "#### Key Considerations that were taken care of while creating the questionnaire\n",
        "* **Relevance** - Are the questions relevant w.r.t our goals of conducting the survey?\n",
        "* **Structure** - Are the questions structured in a way so that they can be masked as a natural conversation? This was very important to consider as a normal conversation would cause people to open up more frankly than a definite set of questions being shot at them.\n",
        "* **Length** - We abstained from making a lengthy questionnaire so that we would not be consuming too much time of a person.\n",
        "* **Comfort** - In a backward Indian village, not every question will be taken up in the right spirit. So, we decided to refrain from asking questions such as family income as not every household will be willing to give an accurate answer."
      ]
    },
    {
      "cell_type": "markdown",
      "metadata": {
        "id": "37qjwZkmHJ3C",
        "colab_type": "text"
      },
      "source": [
        "### Some Preliminary Information about the Village\n",
        "\n",
        "#### Name of the Village\n",
        "**Official Name :** New Thariyal\n",
        "<br>\n",
        "**Also called as :** Dodeneer\n",
        "\n",
        "#### Location\n",
        "Northern Punjab, India\n",
        "\n",
        "#### About the People\n",
        "* **Number of People in the village :** 300+\n",
        "* **Number of Houses :** 58\n",
        "* **Major Occupation :** Unskilled, seasonal labour"
      ]
    },
    {
      "cell_type": "markdown",
      "metadata": {
        "id": "yPWDHBD4HO6Y",
        "colab_type": "text"
      },
      "source": [
        "### State of water in the village (Prior to our study)\n",
        "* According to several villagers, dearth of water is a problem that cripples their daily routines.\n",
        "* The main people who are affected by the above problem statement include the labourers as they are often delayed for work if water is late or does not arrive as they are the ones who go to nearby villages to collect water.\n",
        "* The women of the house are also affected as the household chores are at a standstill when water is not there.\n",
        "* Teenage girls also find the water issues to be extremely uncomfortable, especially during the times of their menstrual cycles.\n",
        "* The village has a debt of over 1,50,000 INR on the borewell that belongs to the Government of Punjab, India. All current usage of the borewell is unauthorized and can be shut down at any time. \n",
        "* Some houses use underground motors to pump up water from the Thariyal source which is not legal according to the rules set by the Govt. of Punjab, India."
      ]
    },
    {
      "cell_type": "markdown",
      "metadata": {
        "id": "QTp2TVKJ-Ofa",
        "colab_type": "text"
      },
      "source": [
        "## The Analysis"
      ]
    },
    {
      "cell_type": "markdown",
      "metadata": {
        "id": "tvz8iUefHw-f",
        "colab_type": "text"
      },
      "source": [
        "#### Loading Data"
      ]
    },
    {
      "cell_type": "code",
      "metadata": {
        "id": "DwTwmYkwqUt1",
        "colab_type": "code",
        "outputId": "73c57b73-3fe8-4fb9-bab5-20fd14cfccd2",
        "colab": {
          "base_uri": "https://localhost:8080/",
          "height": 313
        }
      },
      "source": [
        "# Importing necessary libraries\n",
        "import pandas as pd\n",
        "import matplotlib.pyplot as plt\n",
        "import seaborn as sns\n",
        "\n",
        "# Loading the data\n",
        "df = pd.read_csv(\"Water_survey_dataset.csv\")\n",
        "\n",
        "# Basic Details about the data\n",
        "print(\"Basic details about the dataset: \")\n",
        "print(\"Number of entries:\",df.shape[0])\n",
        "print(\"Number of features:\",df.shape[1])\n",
        "\n",
        "# Viewing the first 5 rows of the data\n",
        "print(\"\\nFirst 5 rows of the dataset:\")\n",
        "df.head()"
      ],
      "execution_count": 1,
      "outputs": [
        {
          "output_type": "stream",
          "text": [
            "Basic details about the dataset: \n",
            "Number of entries: 47\n",
            "Number of features: 9\n",
            "\n",
            "First 5 rows of the dataset:\n"
          ],
          "name": "stdout"
        },
        {
          "output_type": "execute_result",
          "data": {
            "text/html": [
              "<div>\n",
              "<style scoped>\n",
              "    .dataframe tbody tr th:only-of-type {\n",
              "        vertical-align: middle;\n",
              "    }\n",
              "\n",
              "    .dataframe tbody tr th {\n",
              "        vertical-align: top;\n",
              "    }\n",
              "\n",
              "    .dataframe thead th {\n",
              "        text-align: right;\n",
              "    }\n",
              "</style>\n",
              "<table border=\"1\" class=\"dataframe\">\n",
              "  <thead>\n",
              "    <tr style=\"text-align: right;\">\n",
              "      <th></th>\n",
              "      <th>House No.</th>\n",
              "      <th>Sector No.</th>\n",
              "      <th>Choice of Storage</th>\n",
              "      <th>Capacity(ltrs/number) For 'Cans + Buckets', we have encoded count of both</th>\n",
              "      <th>Motor ?</th>\n",
              "      <th>No. of people</th>\n",
              "      <th>Borewell ?</th>\n",
              "      <th>Thariyal ?</th>\n",
              "      <th>Major Source</th>\n",
              "    </tr>\n",
              "  </thead>\n",
              "  <tbody>\n",
              "    <tr>\n",
              "      <th>0</th>\n",
              "      <td>1</td>\n",
              "      <td>3</td>\n",
              "      <td>Tank</td>\n",
              "      <td>500</td>\n",
              "      <td>1</td>\n",
              "      <td>13</td>\n",
              "      <td>1</td>\n",
              "      <td>1</td>\n",
              "      <td>B</td>\n",
              "    </tr>\n",
              "    <tr>\n",
              "      <th>1</th>\n",
              "      <td>2</td>\n",
              "      <td>3</td>\n",
              "      <td>Buckets</td>\n",
              "      <td>12</td>\n",
              "      <td>0</td>\n",
              "      <td>12</td>\n",
              "      <td>1</td>\n",
              "      <td>1</td>\n",
              "      <td>B</td>\n",
              "    </tr>\n",
              "    <tr>\n",
              "      <th>2</th>\n",
              "      <td>3</td>\n",
              "      <td>3</td>\n",
              "      <td>Controls the borewell</td>\n",
              "      <td>-</td>\n",
              "      <td>0</td>\n",
              "      <td>17</td>\n",
              "      <td>1</td>\n",
              "      <td>1</td>\n",
              "      <td>B</td>\n",
              "    </tr>\n",
              "    <tr>\n",
              "      <th>3</th>\n",
              "      <td>4</td>\n",
              "      <td>3</td>\n",
              "      <td>Buckets</td>\n",
              "      <td>15</td>\n",
              "      <td>0</td>\n",
              "      <td>7</td>\n",
              "      <td>1</td>\n",
              "      <td>0</td>\n",
              "      <td>B</td>\n",
              "    </tr>\n",
              "    <tr>\n",
              "      <th>4</th>\n",
              "      <td>6</td>\n",
              "      <td>3</td>\n",
              "      <td>Buckets</td>\n",
              "      <td>15</td>\n",
              "      <td>0</td>\n",
              "      <td>5</td>\n",
              "      <td>1</td>\n",
              "      <td>0</td>\n",
              "      <td>B</td>\n",
              "    </tr>\n",
              "  </tbody>\n",
              "</table>\n",
              "</div>"
            ],
            "text/plain": [
              "   House No.  Sector No.  ... Thariyal ? Major Source\n",
              "0          1           3  ...          1            B\n",
              "1          2           3  ...          1            B\n",
              "2          3           3  ...          1            B\n",
              "3          4           3  ...          0            B\n",
              "4          6           3  ...          0            B\n",
              "\n",
              "[5 rows x 9 columns]"
            ]
          },
          "metadata": {
            "tags": []
          },
          "execution_count": 1
        }
      ]
    },
    {
      "cell_type": "markdown",
      "metadata": {
        "id": "0NNWF565AZFS",
        "colab_type": "text"
      },
      "source": [
        "#### Data Cleaning\n",
        "Cleaning the Survey Dataset"
      ]
    },
    {
      "cell_type": "markdown",
      "metadata": {
        "id": "MZXTgxyHTTSb",
        "colab_type": "text"
      },
      "source": [
        "##### What needs to be cleaned?\n",
        "I have written an explicit function to display all the unique values in a given feature. This will help **identify the kind of values** that a feature has. This will further help understand if -\n",
        "* Features have aberrant values\n",
        "* Features have **weird-looking** values that do not conform to the feature's name\n",
        "* There are outliers (this can be looked at as a very inchoate way of identifying outliers in a given feature)"
      ]
    },
    {
      "cell_type": "code",
      "metadata": {
        "id": "9HqlaD-UfIiJ",
        "colab_type": "code",
        "outputId": "b3657af5-e194-4395-ef25-2db5d4479dac",
        "colab": {
          "base_uri": "https://localhost:8080/",
          "height": 1000
        }
      },
      "source": [
        "# Function to find the unique values in each feature\n",
        "def find_unique(df, ignore):\n",
        "  ''' \n",
        "  df -> Pandas Dataframe\n",
        "  ignore -> Feature Names that are to be ignored (Usually for ignoring identifier features)\n",
        "  '''\n",
        "  features = [f for f in df.columns if f not in ignore]\n",
        "  for feature in features:\n",
        "    print('\\033[31m' + 'Unique Values in : ' + feature +' ' + '\\033[0m')\n",
        "    print(df[feature].value_counts())\n",
        "\n",
        "# Call the function\n",
        "find_unique(df, [\"House_no\"])"
      ],
      "execution_count": 2,
      "outputs": [
        {
          "output_type": "stream",
          "text": [
            "\u001b[31mUnique Values in : House No. \u001b[0m\n",
            "55    1\n",
            "15    1\n",
            "24    1\n",
            "23    1\n",
            "22    1\n",
            "21    1\n",
            "20    1\n",
            "19    1\n",
            "18    1\n",
            "17    1\n",
            "16    1\n",
            "14    1\n",
            "26    1\n",
            "13    1\n",
            "12    1\n",
            "11    1\n",
            "10    1\n",
            "7     1\n",
            "6     1\n",
            "4     1\n",
            "3     1\n",
            "2     1\n",
            "25    1\n",
            "27    1\n",
            "54    1\n",
            "41    1\n",
            "52    1\n",
            "51    1\n",
            "50    1\n",
            "49    1\n",
            "48    1\n",
            "47    1\n",
            "45    1\n",
            "44    1\n",
            "43    1\n",
            "40    1\n",
            "28    1\n",
            "39    1\n",
            "38    1\n",
            "37    1\n",
            "36    1\n",
            "35    1\n",
            "33    1\n",
            "32    1\n",
            "31    1\n",
            "29    1\n",
            "1     1\n",
            "Name: House No., dtype: int64\n",
            "\u001b[31mUnique Values in : Sector No. \u001b[0m\n",
            "3    32\n",
            "2    15\n",
            "Name: Sector No., dtype: int64\n",
            "\u001b[31mUnique Values in : Choice of Storage \u001b[0m\n",
            "Buckets                  26\n",
            "Tank                     11\n",
            "Cans + Buckets            5\n",
            "Sump                      2\n",
            "Cans                      2\n",
            "Controls the borewell     1\n",
            "Name: Choice of Storage, dtype: int64\n",
            "\u001b[31mUnique Values in : Capacity(ltrs/number) For 'Cans + Buckets', we have encoded count of both \u001b[0m\n",
            "4        7\n",
            "500      6\n",
            "5        4\n",
            "10       4\n",
            "350      3\n",
            "3        3\n",
            "6        3\n",
            "15       2\n",
            "7        2\n",
            "12743    1\n",
            "4247     1\n",
            "1,2      1\n",
            "2        1\n",
            "1000     1\n",
            "300      1\n",
            "2,10     1\n",
            "1,10     1\n",
            "-        1\n",
            "18       1\n",
            "3,3      1\n",
            "7,1      1\n",
            "12       1\n",
            "Name: Capacity(ltrs/number) For 'Cans + Buckets', we have encoded count of both, dtype: int64\n",
            "\u001b[31mUnique Values in : Motor ? \u001b[0m\n",
            "0    36\n",
            "1    11\n",
            "Name: Motor ?, dtype: int64\n",
            "\u001b[31mUnique Values in : No. of people \u001b[0m\n",
            "5     15\n",
            "7      5\n",
            "6      5\n",
            "4      5\n",
            "10     4\n",
            "3      4\n",
            "13     2\n",
            "11     2\n",
            "8      2\n",
            "17     1\n",
            "12     1\n",
            "2      1\n",
            "Name: No. of people, dtype: int64\n",
            "\u001b[31mUnique Values in : Borewell ? \u001b[0m\n",
            "0    26\n",
            "1    21\n",
            "Name: Borewell ?, dtype: int64\n",
            "\u001b[31mUnique Values in : Thariyal ? \u001b[0m\n",
            "1    34\n",
            "0    13\n",
            "Name: Thariyal ?, dtype: int64\n",
            "\u001b[31mUnique Values in : Major Source \u001b[0m\n",
            "T    28\n",
            "B    19\n",
            "Name: Major Source, dtype: int64\n"
          ],
          "name": "stdout"
        }
      ]
    },
    {
      "cell_type": "markdown",
      "metadata": {
        "id": "D_mIShvYw0Uc",
        "colab_type": "text"
      },
      "source": [
        "* The feature names are **messy**; need to be renamed for ease of use\n",
        "* Deal with **aberrant** data values\n",
        "* Dealing with non-uniform measurement scales in **Capacity...** feature"
      ]
    },
    {
      "cell_type": "code",
      "metadata": {
        "id": "hLy9qCuXbcqK",
        "colab_type": "code",
        "outputId": "e641e9dc-efd4-4cbf-8a50-7712a5ab8913",
        "colab": {
          "base_uri": "https://localhost:8080/",
          "height": 195
        }
      },
      "source": [
        "# Renaming the features\n",
        "\n",
        "col_names = [\"House_no\", \"Sector_no\", \"Storage\", \"Capacity\", \"Motor_presence\", \"Num_people\", \"Borewell_source_used\", \"Thariyal_source_used\", \"Major_source\"]\n",
        "df.columns = col_names\n",
        "df.head()"
      ],
      "execution_count": 3,
      "outputs": [
        {
          "output_type": "execute_result",
          "data": {
            "text/html": [
              "<div>\n",
              "<style scoped>\n",
              "    .dataframe tbody tr th:only-of-type {\n",
              "        vertical-align: middle;\n",
              "    }\n",
              "\n",
              "    .dataframe tbody tr th {\n",
              "        vertical-align: top;\n",
              "    }\n",
              "\n",
              "    .dataframe thead th {\n",
              "        text-align: right;\n",
              "    }\n",
              "</style>\n",
              "<table border=\"1\" class=\"dataframe\">\n",
              "  <thead>\n",
              "    <tr style=\"text-align: right;\">\n",
              "      <th></th>\n",
              "      <th>House_no</th>\n",
              "      <th>Sector_no</th>\n",
              "      <th>Storage</th>\n",
              "      <th>Capacity</th>\n",
              "      <th>Motor_presence</th>\n",
              "      <th>Num_people</th>\n",
              "      <th>Borewell_source_used</th>\n",
              "      <th>Thariyal_source_used</th>\n",
              "      <th>Major_source</th>\n",
              "    </tr>\n",
              "  </thead>\n",
              "  <tbody>\n",
              "    <tr>\n",
              "      <th>0</th>\n",
              "      <td>1</td>\n",
              "      <td>3</td>\n",
              "      <td>Tank</td>\n",
              "      <td>500</td>\n",
              "      <td>1</td>\n",
              "      <td>13</td>\n",
              "      <td>1</td>\n",
              "      <td>1</td>\n",
              "      <td>B</td>\n",
              "    </tr>\n",
              "    <tr>\n",
              "      <th>1</th>\n",
              "      <td>2</td>\n",
              "      <td>3</td>\n",
              "      <td>Buckets</td>\n",
              "      <td>12</td>\n",
              "      <td>0</td>\n",
              "      <td>12</td>\n",
              "      <td>1</td>\n",
              "      <td>1</td>\n",
              "      <td>B</td>\n",
              "    </tr>\n",
              "    <tr>\n",
              "      <th>2</th>\n",
              "      <td>3</td>\n",
              "      <td>3</td>\n",
              "      <td>Controls the borewell</td>\n",
              "      <td>-</td>\n",
              "      <td>0</td>\n",
              "      <td>17</td>\n",
              "      <td>1</td>\n",
              "      <td>1</td>\n",
              "      <td>B</td>\n",
              "    </tr>\n",
              "    <tr>\n",
              "      <th>3</th>\n",
              "      <td>4</td>\n",
              "      <td>3</td>\n",
              "      <td>Buckets</td>\n",
              "      <td>15</td>\n",
              "      <td>0</td>\n",
              "      <td>7</td>\n",
              "      <td>1</td>\n",
              "      <td>0</td>\n",
              "      <td>B</td>\n",
              "    </tr>\n",
              "    <tr>\n",
              "      <th>4</th>\n",
              "      <td>6</td>\n",
              "      <td>3</td>\n",
              "      <td>Buckets</td>\n",
              "      <td>15</td>\n",
              "      <td>0</td>\n",
              "      <td>5</td>\n",
              "      <td>1</td>\n",
              "      <td>0</td>\n",
              "      <td>B</td>\n",
              "    </tr>\n",
              "  </tbody>\n",
              "</table>\n",
              "</div>"
            ],
            "text/plain": [
              "   House_no  Sector_no  ... Thariyal_source_used Major_source\n",
              "0         1          3  ...                    1            B\n",
              "1         2          3  ...                    1            B\n",
              "2         3          3  ...                    1            B\n",
              "3         4          3  ...                    0            B\n",
              "4         6          3  ...                    0            B\n",
              "\n",
              "[5 rows x 9 columns]"
            ]
          },
          "metadata": {
            "tags": []
          },
          "execution_count": 3
        }
      ]
    },
    {
      "cell_type": "markdown",
      "metadata": {
        "id": "MYk-Vc7151dg",
        "colab_type": "text"
      },
      "source": [
        "##### Dealing with aberrant values\n",
        "The aberrant value of \"-\" is in a cell that specifies the storage capacity of a house that has first-hand control over the usage of the borewell in the village. And, it is not too bold a guess if we were to say that **this house has access to a way higher amount of water than any other household in the village**.<br>\n",
        "So, let's give a value of **10000** to this cell."
      ]
    },
    {
      "cell_type": "code",
      "metadata": {
        "id": "0DkLdo4d3GWi",
        "colab_type": "code",
        "colab": {}
      },
      "source": [
        "# Cleaning up the aberrant cells\n",
        "\n",
        "## Controls the borewell cell\n",
        "df.at[2, 'Capacity']=10000"
      ],
      "execution_count": 0,
      "outputs": []
    },
    {
      "cell_type": "markdown",
      "metadata": {
        "id": "RiEbmDvb4K9g",
        "colab_type": "text"
      },
      "source": [
        "##### Dealing with the non-uniform measurement scales in \"Capacity\"\n",
        "\n",
        "For this, we need to engineer a new feature called \"Amount\" which will depict the total amount of water an individual house gets per day. For this, we need to keep in mind the following conditions from the survey methodology : <br>\n",
        "* When Storage = \"Tank\" OR \"Controls the borewell\", **Amount = Capacity**\n",
        "* When Storage = \"Can\", **Amount = Capacity x 50**\n",
        "* When Storage = \"Bucket\", **Amount = Capacity x 20**\n",
        "* When Storage = \"Cans + Buckets\", Capacity is entered as a tuple of the form (num_of_cans, num_of_buckets). Here, **Amount = (num_of_cans x 50) + (num_of_buckets x 20)**\n",
        "\n"
      ]
    },
    {
      "cell_type": "code",
      "metadata": {
        "id": "e3jEsO1q-Vqg",
        "colab_type": "code",
        "outputId": "2fed7ad5-b3ee-4548-870c-769e56ac0754",
        "colab": {
          "base_uri": "https://localhost:8080/",
          "height": 195
        }
      },
      "source": [
        "# Create a feature \"Amount\" to quantify the amount of water each household received\n",
        "\n",
        "cnt_rows = df.shape[0]\n",
        "amount = []\n",
        "for i in range(cnt_rows) :\n",
        "  storage = df[\"Storage\"].iloc[i]\n",
        "  cap = df[\"Capacity\"].iloc[i]\n",
        "  if(storage==\"Cans\"):\n",
        "    amount.append(int(cap)*50)\n",
        "  elif(storage==\"Buckets\"):\n",
        "    amount.append(int(cap)*20)\n",
        "  elif(storage==\"Cans + Buckets\"):\n",
        "    split_cap = cap.split(\",\")\n",
        "    amount.append((int(split_cap[0])*50) + (int(split_cap[1])*20))\n",
        "  else:\n",
        "    amount.append(int(cap))\n",
        "\n",
        "# load the \"amount\" list as a feature by the same name\n",
        "df[\"Amount\"] = amount\n",
        "\n",
        "# We can get rid of the \"Capacity\" feature now\n",
        "df = df.drop(\"Capacity\", axis=1)\n",
        "\n",
        "# View the dataset\n",
        "df.head()\n"
      ],
      "execution_count": 5,
      "outputs": [
        {
          "output_type": "execute_result",
          "data": {
            "text/html": [
              "<div>\n",
              "<style scoped>\n",
              "    .dataframe tbody tr th:only-of-type {\n",
              "        vertical-align: middle;\n",
              "    }\n",
              "\n",
              "    .dataframe tbody tr th {\n",
              "        vertical-align: top;\n",
              "    }\n",
              "\n",
              "    .dataframe thead th {\n",
              "        text-align: right;\n",
              "    }\n",
              "</style>\n",
              "<table border=\"1\" class=\"dataframe\">\n",
              "  <thead>\n",
              "    <tr style=\"text-align: right;\">\n",
              "      <th></th>\n",
              "      <th>House_no</th>\n",
              "      <th>Sector_no</th>\n",
              "      <th>Storage</th>\n",
              "      <th>Motor_presence</th>\n",
              "      <th>Num_people</th>\n",
              "      <th>Borewell_source_used</th>\n",
              "      <th>Thariyal_source_used</th>\n",
              "      <th>Major_source</th>\n",
              "      <th>Amount</th>\n",
              "    </tr>\n",
              "  </thead>\n",
              "  <tbody>\n",
              "    <tr>\n",
              "      <th>0</th>\n",
              "      <td>1</td>\n",
              "      <td>3</td>\n",
              "      <td>Tank</td>\n",
              "      <td>1</td>\n",
              "      <td>13</td>\n",
              "      <td>1</td>\n",
              "      <td>1</td>\n",
              "      <td>B</td>\n",
              "      <td>500</td>\n",
              "    </tr>\n",
              "    <tr>\n",
              "      <th>1</th>\n",
              "      <td>2</td>\n",
              "      <td>3</td>\n",
              "      <td>Buckets</td>\n",
              "      <td>0</td>\n",
              "      <td>12</td>\n",
              "      <td>1</td>\n",
              "      <td>1</td>\n",
              "      <td>B</td>\n",
              "      <td>240</td>\n",
              "    </tr>\n",
              "    <tr>\n",
              "      <th>2</th>\n",
              "      <td>3</td>\n",
              "      <td>3</td>\n",
              "      <td>Controls the borewell</td>\n",
              "      <td>0</td>\n",
              "      <td>17</td>\n",
              "      <td>1</td>\n",
              "      <td>1</td>\n",
              "      <td>B</td>\n",
              "      <td>10000</td>\n",
              "    </tr>\n",
              "    <tr>\n",
              "      <th>3</th>\n",
              "      <td>4</td>\n",
              "      <td>3</td>\n",
              "      <td>Buckets</td>\n",
              "      <td>0</td>\n",
              "      <td>7</td>\n",
              "      <td>1</td>\n",
              "      <td>0</td>\n",
              "      <td>B</td>\n",
              "      <td>300</td>\n",
              "    </tr>\n",
              "    <tr>\n",
              "      <th>4</th>\n",
              "      <td>6</td>\n",
              "      <td>3</td>\n",
              "      <td>Buckets</td>\n",
              "      <td>0</td>\n",
              "      <td>5</td>\n",
              "      <td>1</td>\n",
              "      <td>0</td>\n",
              "      <td>B</td>\n",
              "      <td>300</td>\n",
              "    </tr>\n",
              "  </tbody>\n",
              "</table>\n",
              "</div>"
            ],
            "text/plain": [
              "   House_no  Sector_no  ... Major_source  Amount\n",
              "0         1          3  ...            B     500\n",
              "1         2          3  ...            B     240\n",
              "2         3          3  ...            B   10000\n",
              "3         4          3  ...            B     300\n",
              "4         6          3  ...            B     300\n",
              "\n",
              "[5 rows x 9 columns]"
            ]
          },
          "metadata": {
            "tags": []
          },
          "execution_count": 5
        }
      ]
    },
    {
      "cell_type": "markdown",
      "metadata": {
        "id": "2fzeqF-tWaQZ",
        "colab_type": "text"
      },
      "source": [
        "#### Feature Engineering\n",
        "Creating new features with existing features"
      ]
    },
    {
      "cell_type": "markdown",
      "metadata": {
        "id": "7MGfmg6lXRcb",
        "colab_type": "text"
      },
      "source": [
        "The amount of water a household gets is **incomplete**. This is because the **number of people in a house** is subject to **variance**. So, we need to take that parameter into consideration too if we are to quantify water stress in the village effectively.<br>\n",
        "So, we create the **Water_per_person_per_day** feature."
      ]
    },
    {
      "cell_type": "code",
      "metadata": {
        "id": "ek7y7UInh8qN",
        "colab_type": "code",
        "outputId": "7943b116-2067-4a71-df47-04f3348ecaa4",
        "colab": {
          "base_uri": "https://localhost:8080/",
          "height": 249
        }
      },
      "source": [
        "# \"Water/person\" for each household\n",
        "df[\"Water_per_person_per_day\"] = df[\"Amount\"]/df[\"Num_people\"]\n",
        "df.head()"
      ],
      "execution_count": 6,
      "outputs": [
        {
          "output_type": "execute_result",
          "data": {
            "text/html": [
              "<div>\n",
              "<style scoped>\n",
              "    .dataframe tbody tr th:only-of-type {\n",
              "        vertical-align: middle;\n",
              "    }\n",
              "\n",
              "    .dataframe tbody tr th {\n",
              "        vertical-align: top;\n",
              "    }\n",
              "\n",
              "    .dataframe thead th {\n",
              "        text-align: right;\n",
              "    }\n",
              "</style>\n",
              "<table border=\"1\" class=\"dataframe\">\n",
              "  <thead>\n",
              "    <tr style=\"text-align: right;\">\n",
              "      <th></th>\n",
              "      <th>House_no</th>\n",
              "      <th>Sector_no</th>\n",
              "      <th>Storage</th>\n",
              "      <th>Motor_presence</th>\n",
              "      <th>Num_people</th>\n",
              "      <th>Borewell_source_used</th>\n",
              "      <th>Thariyal_source_used</th>\n",
              "      <th>Major_source</th>\n",
              "      <th>Amount</th>\n",
              "      <th>Water_per_person_per_day</th>\n",
              "    </tr>\n",
              "  </thead>\n",
              "  <tbody>\n",
              "    <tr>\n",
              "      <th>0</th>\n",
              "      <td>1</td>\n",
              "      <td>3</td>\n",
              "      <td>Tank</td>\n",
              "      <td>1</td>\n",
              "      <td>13</td>\n",
              "      <td>1</td>\n",
              "      <td>1</td>\n",
              "      <td>B</td>\n",
              "      <td>500</td>\n",
              "      <td>38.461538</td>\n",
              "    </tr>\n",
              "    <tr>\n",
              "      <th>1</th>\n",
              "      <td>2</td>\n",
              "      <td>3</td>\n",
              "      <td>Buckets</td>\n",
              "      <td>0</td>\n",
              "      <td>12</td>\n",
              "      <td>1</td>\n",
              "      <td>1</td>\n",
              "      <td>B</td>\n",
              "      <td>240</td>\n",
              "      <td>20.000000</td>\n",
              "    </tr>\n",
              "    <tr>\n",
              "      <th>2</th>\n",
              "      <td>3</td>\n",
              "      <td>3</td>\n",
              "      <td>Controls the borewell</td>\n",
              "      <td>0</td>\n",
              "      <td>17</td>\n",
              "      <td>1</td>\n",
              "      <td>1</td>\n",
              "      <td>B</td>\n",
              "      <td>10000</td>\n",
              "      <td>588.235294</td>\n",
              "    </tr>\n",
              "    <tr>\n",
              "      <th>3</th>\n",
              "      <td>4</td>\n",
              "      <td>3</td>\n",
              "      <td>Buckets</td>\n",
              "      <td>0</td>\n",
              "      <td>7</td>\n",
              "      <td>1</td>\n",
              "      <td>0</td>\n",
              "      <td>B</td>\n",
              "      <td>300</td>\n",
              "      <td>42.857143</td>\n",
              "    </tr>\n",
              "    <tr>\n",
              "      <th>4</th>\n",
              "      <td>6</td>\n",
              "      <td>3</td>\n",
              "      <td>Buckets</td>\n",
              "      <td>0</td>\n",
              "      <td>5</td>\n",
              "      <td>1</td>\n",
              "      <td>0</td>\n",
              "      <td>B</td>\n",
              "      <td>300</td>\n",
              "      <td>60.000000</td>\n",
              "    </tr>\n",
              "  </tbody>\n",
              "</table>\n",
              "</div>"
            ],
            "text/plain": [
              "   House_no  Sector_no  ... Amount  Water_per_person_per_day\n",
              "0         1          3  ...    500                 38.461538\n",
              "1         2          3  ...    240                 20.000000\n",
              "2         3          3  ...  10000                588.235294\n",
              "3         4          3  ...    300                 42.857143\n",
              "4         6          3  ...    300                 60.000000\n",
              "\n",
              "[5 rows x 10 columns]"
            ]
          },
          "metadata": {
            "tags": []
          },
          "execution_count": 6
        }
      ]
    },
    {
      "cell_type": "markdown",
      "metadata": {
        "id": "HNjwixjdYECC",
        "colab_type": "text"
      },
      "source": [
        "There are two sources of water in the village - \n",
        "* The unauthorized **borewell**\n",
        "* The central water supply from the nearby village of **Thariyal**\n",
        "We can see that certain households get water from both supplies.<br>\n",
        "So, let's create a feature **Both** to make this information easily discernible for later analysis."
      ]
    },
    {
      "cell_type": "code",
      "metadata": {
        "id": "cwJ8HDcCXZvP",
        "colab_type": "code",
        "outputId": "14f85420-f30a-4944-e028-c8f58a8b3388",
        "colab": {
          "base_uri": "https://localhost:8080/",
          "height": 249
        }
      },
      "source": [
        "# \"Both\" feature indicates whether a particular house gets water from both the sources in question\n",
        "df[\"Both\"] = df[\"Borewell_source_used\"] + df[\"Thariyal_source_used\"]\n",
        "df.head()"
      ],
      "execution_count": 7,
      "outputs": [
        {
          "output_type": "execute_result",
          "data": {
            "text/html": [
              "<div>\n",
              "<style scoped>\n",
              "    .dataframe tbody tr th:only-of-type {\n",
              "        vertical-align: middle;\n",
              "    }\n",
              "\n",
              "    .dataframe tbody tr th {\n",
              "        vertical-align: top;\n",
              "    }\n",
              "\n",
              "    .dataframe thead th {\n",
              "        text-align: right;\n",
              "    }\n",
              "</style>\n",
              "<table border=\"1\" class=\"dataframe\">\n",
              "  <thead>\n",
              "    <tr style=\"text-align: right;\">\n",
              "      <th></th>\n",
              "      <th>House_no</th>\n",
              "      <th>Sector_no</th>\n",
              "      <th>Storage</th>\n",
              "      <th>Motor_presence</th>\n",
              "      <th>Num_people</th>\n",
              "      <th>Borewell_source_used</th>\n",
              "      <th>Thariyal_source_used</th>\n",
              "      <th>Major_source</th>\n",
              "      <th>Amount</th>\n",
              "      <th>Water_per_person_per_day</th>\n",
              "      <th>Both</th>\n",
              "    </tr>\n",
              "  </thead>\n",
              "  <tbody>\n",
              "    <tr>\n",
              "      <th>0</th>\n",
              "      <td>1</td>\n",
              "      <td>3</td>\n",
              "      <td>Tank</td>\n",
              "      <td>1</td>\n",
              "      <td>13</td>\n",
              "      <td>1</td>\n",
              "      <td>1</td>\n",
              "      <td>B</td>\n",
              "      <td>500</td>\n",
              "      <td>38.461538</td>\n",
              "      <td>2</td>\n",
              "    </tr>\n",
              "    <tr>\n",
              "      <th>1</th>\n",
              "      <td>2</td>\n",
              "      <td>3</td>\n",
              "      <td>Buckets</td>\n",
              "      <td>0</td>\n",
              "      <td>12</td>\n",
              "      <td>1</td>\n",
              "      <td>1</td>\n",
              "      <td>B</td>\n",
              "      <td>240</td>\n",
              "      <td>20.000000</td>\n",
              "      <td>2</td>\n",
              "    </tr>\n",
              "    <tr>\n",
              "      <th>2</th>\n",
              "      <td>3</td>\n",
              "      <td>3</td>\n",
              "      <td>Controls the borewell</td>\n",
              "      <td>0</td>\n",
              "      <td>17</td>\n",
              "      <td>1</td>\n",
              "      <td>1</td>\n",
              "      <td>B</td>\n",
              "      <td>10000</td>\n",
              "      <td>588.235294</td>\n",
              "      <td>2</td>\n",
              "    </tr>\n",
              "    <tr>\n",
              "      <th>3</th>\n",
              "      <td>4</td>\n",
              "      <td>3</td>\n",
              "      <td>Buckets</td>\n",
              "      <td>0</td>\n",
              "      <td>7</td>\n",
              "      <td>1</td>\n",
              "      <td>0</td>\n",
              "      <td>B</td>\n",
              "      <td>300</td>\n",
              "      <td>42.857143</td>\n",
              "      <td>1</td>\n",
              "    </tr>\n",
              "    <tr>\n",
              "      <th>4</th>\n",
              "      <td>6</td>\n",
              "      <td>3</td>\n",
              "      <td>Buckets</td>\n",
              "      <td>0</td>\n",
              "      <td>5</td>\n",
              "      <td>1</td>\n",
              "      <td>0</td>\n",
              "      <td>B</td>\n",
              "      <td>300</td>\n",
              "      <td>60.000000</td>\n",
              "      <td>1</td>\n",
              "    </tr>\n",
              "  </tbody>\n",
              "</table>\n",
              "</div>"
            ],
            "text/plain": [
              "   House_no  Sector_no  ... Water_per_person_per_day  Both\n",
              "0         1          3  ...                38.461538     2\n",
              "1         2          3  ...                20.000000     2\n",
              "2         3          3  ...               588.235294     2\n",
              "3         4          3  ...                42.857143     1\n",
              "4         6          3  ...                60.000000     1\n",
              "\n",
              "[5 rows x 11 columns]"
            ]
          },
          "metadata": {
            "tags": []
          },
          "execution_count": 7
        }
      ]
    },
    {
      "cell_type": "markdown",
      "metadata": {
        "id": "4_gBRw9pYmst",
        "colab_type": "text"
      },
      "source": [
        "#### Visualizing the Water Scenario\n",
        "Graphs and plots to visualize the dataset"
      ]
    },
    {
      "cell_type": "markdown",
      "metadata": {
        "id": "3xvE0j7-iLd9",
        "colab_type": "text"
      },
      "source": [
        "First, we need to have an idea of the **Storage Scenario** at the village. The following code does exactly that."
      ]
    },
    {
      "cell_type": "code",
      "metadata": {
        "id": "7CdQ6TDxdzqS",
        "colab_type": "code",
        "colab": {}
      },
      "source": [
        "sns.set_style('darkgrid')"
      ],
      "execution_count": 0,
      "outputs": []
    },
    {
      "cell_type": "code",
      "metadata": {
        "id": "l1mvmk6TemDC",
        "colab_type": "code",
        "outputId": "a9d0bfff-8cbf-4c24-b637-182c0ca56c3b",
        "colab": {
          "base_uri": "https://localhost:8080/",
          "height": 301
        }
      },
      "source": [
        "# The distribution of storage mediums in the village\n",
        "storage = df[\"Storage\"]\n",
        "medium={\"Tank\":0, \"Buckets\":0, \"Cans\":0, \"Sump\":0, \"Misc\":0}\n",
        "for s in storage:\n",
        "  if(\"Cans\" in s):\n",
        "    medium[\"Cans\"]+=1\n",
        "  if(\"Buckets\" in s):\n",
        "    medium[\"Buckets\"]+=1\n",
        "  if(\"Tank\" in s):\n",
        "    medium[\"Tank\"]+=1\n",
        "  if(\"Sump\" in s):\n",
        "    medium[\"Sump\"]+=1\n",
        "  if(\"Controls the borewell\" in s):\n",
        "    medium[\"Misc\"]+=1\n",
        "\n",
        "# Plot the mediums of storage\n",
        "x = list(medium.keys())\n",
        "y = list(medium.values())\n",
        "sns.barplot(x, y)\n",
        "plt.title(\"Storage Mediums in the Village\\n\",fontsize=15)\n",
        "plt.ylabel(\"Number of households\",fontsize=12)\n",
        "plt.show()\n"
      ],
      "execution_count": 42,
      "outputs": [
        {
          "output_type": "display_data",
          "data": {
            "image/png": "[encoded data removed]",
            "text/plain": [
              "<Figure size 432x288 with 1 Axes>"
            ]
          },
          "metadata": {
            "tags": []
          }
        }
      ]
    },
    {
      "cell_type": "markdown",
      "metadata": {
        "id": "_0SF-ABWq40x",
        "colab_type": "text"
      },
      "source": [
        "Buckets are the most common form of water storage in the village, followed by Tanks.<br>\n",
        "\n",
        "**NOTE :** Misc includes the single house where the household is incharge of the borewell and they don't need to store water."
      ]
    },
    {
      "cell_type": "markdown",
      "metadata": {
        "id": "zFBjwblMjSe3",
        "colab_type": "text"
      },
      "source": [
        "Let's have a look at the relation between the amount of water and the presence of motor in a household.<br>\n",
        "Using a box-plot, we have"
      ]
    },
    {
      "cell_type": "code",
      "metadata": {
        "id": "k9zARqGX7d5-",
        "colab_type": "code",
        "outputId": "72e367a7-6c58-4b52-b27b-6a2dfb5e666a",
        "colab": {
          "base_uri": "https://localhost:8080/",
          "height": 318
        }
      },
      "source": [
        "# Num of people vs Amount based on Motor presence\n",
        "\n",
        "sns.boxplot(y = \"Amount\", x = \"Motor_presence\", data=df)\n",
        "plt.title(\"How does the use of a motor impact water availability?\\n\", fontsize=15)\n",
        "plt.xlabel(\"Does the house have a motor?\", fontsize=12)\n",
        "plt.ylabel(\"Amount of Water\", fontsize=12)\n",
        "plt.show()"
      ],
      "execution_count": 41,
      "outputs": [
        {
          "output_type": "display_data",
          "data": {
            "image/png": "[encoded data removed]",
            "text/plain": [
              "<Figure size 432x288 with 1 Axes>"
            ]
          },
          "metadata": {
            "tags": []
          }
        }
      ]
    },
    {
      "cell_type": "markdown",
      "metadata": {
        "id": "6JUPotktjkVQ",
        "colab_type": "text"
      },
      "source": [
        "This does not look so convincing, because of the existence of outlier values (The sumps and the house that that controlls the borewell).<br>\n",
        "So, let's take them off for better data analysis."
      ]
    },
    {
      "cell_type": "code",
      "metadata": {
        "id": "iPigCrr5kNBm",
        "colab_type": "code",
        "colab": {}
      },
      "source": [
        "## Remove outliers from the Amount feature\n",
        "remove_outliers = df[df[\"Amount\"]<4000]"
      ],
      "execution_count": 0,
      "outputs": []
    },
    {
      "cell_type": "code",
      "metadata": {
        "id": "dhH3DVJXemY5",
        "colab_type": "code",
        "outputId": "27c0dadd-a7c1-47a2-a879-2ed15946e512",
        "colab": {
          "base_uri": "https://localhost:8080/",
          "height": 318
        }
      },
      "source": [
        "# Same box plot as before\n",
        "sns.boxplot(y = \"Amount\", x = \"Motor_presence\", data=remove_outliers)\n",
        "plt.title(\"How does the use of a motor impact water availability?\\n\", fontsize=15)\n",
        "plt.xlabel(\"Does the house have a motor?\", fontsize=12)\n",
        "plt.ylabel(\"Amount of Water\", fontsize=12)\n",
        "plt.show()"
      ],
      "execution_count": 40,
      "outputs": [
        {
          "output_type": "display_data",
          "data": {
            "image/png": "[encoded data removed]",
            "text/plain": [
              "<Figure size 432x288 with 1 Axes>"
            ]
          },
          "metadata": {
            "tags": []
          }
        }
      ]
    },
    {
      "cell_type": "markdown",
      "metadata": {
        "id": "hDqNsBRoqlwp",
        "colab_type": "text"
      },
      "source": [
        "**We can see that households using motor receive more water on an average than those not using it.**"
      ]
    },
    {
      "cell_type": "markdown",
      "metadata": {
        "id": "yxeBn747qHx6",
        "colab_type": "text"
      },
      "source": [
        "Let us find out how much water each person in the village gets using a density ditribution curve."
      ]
    },
    {
      "cell_type": "code",
      "metadata": {
        "id": "Rqm7ToLNemSZ",
        "colab_type": "code",
        "outputId": "51d17f0d-fb9f-4878-a350-5e2f92f90d60",
        "colab": {
          "base_uri": "https://localhost:8080/",
          "height": 318
        }
      },
      "source": [
        "# Remove outliers\n",
        "sns.kdeplot(remove_outliers[\"Water_per_person_per_day\"], shade=True, kernel=\"cos\")\n",
        "plt.title(\"Distribution of Water per person per day in Dodeneer\\n\", fontsize=15)\n",
        "plt.xlabel(\"Quantity of Water (in litres)\", fontsize=12)\n",
        "plt.ylabel(\"Probability Density\", fontsize=12)\n",
        "plt.show()"
      ],
      "execution_count": 39,
      "outputs": [
        {
          "output_type": "display_data",
          "data": {
            "image/png": "[encoded data removed]",
            "text/plain": [
              "<Figure size 432x288 with 1 Axes>"
            ]
          },
          "metadata": {
            "tags": []
          }
        }
      ]
    },
    {
      "cell_type": "markdown",
      "metadata": {
        "id": "sQ9Kox4jp_r8",
        "colab_type": "text"
      },
      "source": [
        "**The above density plot shows a huge disparity between the haves and the have-nots!**"
      ]
    },
    {
      "cell_type": "markdown",
      "metadata": {
        "id": "UjJEs4USpqqE",
        "colab_type": "text"
      },
      "source": [
        "The above graph definitely shows that there is an imabalanced distribution of water across the village. But, a few questions arise from that plot.\n",
        "* What is the **severity** of this imabalance?\n",
        "* Do people have enough water for their daily activities and chores?\n",
        "<br><br>\n",
        "According to the United Nations, the minimum water requirement per person per day is 50 litres. So, let's see how many people actually get that much water per day."
      ]
    },
    {
      "cell_type": "code",
      "metadata": {
        "id": "x46Y1mNJrwqn",
        "colab_type": "code",
        "outputId": "f94e8bd4-998e-4547-f802-675c6d3c7339",
        "colab": {
          "base_uri": "https://localhost:8080/",
          "height": 249
        }
      },
      "source": [
        "# Let's set the minimum water required per person per day as 50 litres [acc. to UN]\n",
        "def meets_water_requirement(x):\n",
        "  if (x>=50):\n",
        "    return \"Yes\"\n",
        "  return \"No\"\n",
        "\n",
        "df[\"Meets_water_requirement\"] = df[\"Water_per_person_per_day\"].apply(meets_water_requirement)\n",
        "df.head()"
      ],
      "execution_count": 35,
      "outputs": [
        {
          "output_type": "execute_result",
          "data": {
            "text/html": [
              "<div>\n",
              "<style scoped>\n",
              "    .dataframe tbody tr th:only-of-type {\n",
              "        vertical-align: middle;\n",
              "    }\n",
              "\n",
              "    .dataframe tbody tr th {\n",
              "        vertical-align: top;\n",
              "    }\n",
              "\n",
              "    .dataframe thead th {\n",
              "        text-align: right;\n",
              "    }\n",
              "</style>\n",
              "<table border=\"1\" class=\"dataframe\">\n",
              "  <thead>\n",
              "    <tr style=\"text-align: right;\">\n",
              "      <th></th>\n",
              "      <th>House_no</th>\n",
              "      <th>Sector_no</th>\n",
              "      <th>Storage</th>\n",
              "      <th>Motor_presence</th>\n",
              "      <th>Num_people</th>\n",
              "      <th>Borewell_source_used</th>\n",
              "      <th>Thariyal_source_used</th>\n",
              "      <th>Major_source</th>\n",
              "      <th>Amount</th>\n",
              "      <th>Water_per_person_per_day</th>\n",
              "      <th>Both</th>\n",
              "      <th>Meets_water_requirement</th>\n",
              "    </tr>\n",
              "  </thead>\n",
              "  <tbody>\n",
              "    <tr>\n",
              "      <th>0</th>\n",
              "      <td>1</td>\n",
              "      <td>3</td>\n",
              "      <td>Tank</td>\n",
              "      <td>1</td>\n",
              "      <td>13</td>\n",
              "      <td>1</td>\n",
              "      <td>1</td>\n",
              "      <td>B</td>\n",
              "      <td>500</td>\n",
              "      <td>38.461538</td>\n",
              "      <td>2</td>\n",
              "      <td>No</td>\n",
              "    </tr>\n",
              "    <tr>\n",
              "      <th>1</th>\n",
              "      <td>2</td>\n",
              "      <td>3</td>\n",
              "      <td>Buckets</td>\n",
              "      <td>0</td>\n",
              "      <td>12</td>\n",
              "      <td>1</td>\n",
              "      <td>1</td>\n",
              "      <td>B</td>\n",
              "      <td>240</td>\n",
              "      <td>20.000000</td>\n",
              "      <td>2</td>\n",
              "      <td>No</td>\n",
              "    </tr>\n",
              "    <tr>\n",
              "      <th>2</th>\n",
              "      <td>3</td>\n",
              "      <td>3</td>\n",
              "      <td>Controls the borewell</td>\n",
              "      <td>0</td>\n",
              "      <td>17</td>\n",
              "      <td>1</td>\n",
              "      <td>1</td>\n",
              "      <td>B</td>\n",
              "      <td>10000</td>\n",
              "      <td>588.235294</td>\n",
              "      <td>2</td>\n",
              "      <td>Yes</td>\n",
              "    </tr>\n",
              "    <tr>\n",
              "      <th>3</th>\n",
              "      <td>4</td>\n",
              "      <td>3</td>\n",
              "      <td>Buckets</td>\n",
              "      <td>0</td>\n",
              "      <td>7</td>\n",
              "      <td>1</td>\n",
              "      <td>0</td>\n",
              "      <td>B</td>\n",
              "      <td>300</td>\n",
              "      <td>42.857143</td>\n",
              "      <td>1</td>\n",
              "      <td>No</td>\n",
              "    </tr>\n",
              "    <tr>\n",
              "      <th>4</th>\n",
              "      <td>6</td>\n",
              "      <td>3</td>\n",
              "      <td>Buckets</td>\n",
              "      <td>0</td>\n",
              "      <td>5</td>\n",
              "      <td>1</td>\n",
              "      <td>0</td>\n",
              "      <td>B</td>\n",
              "      <td>300</td>\n",
              "      <td>60.000000</td>\n",
              "      <td>1</td>\n",
              "      <td>Yes</td>\n",
              "    </tr>\n",
              "  </tbody>\n",
              "</table>\n",
              "</div>"
            ],
            "text/plain": [
              "   House_no  Sector_no  ... Both  Meets_water_requirement\n",
              "0         1          3  ...    2                       No\n",
              "1         2          3  ...    2                       No\n",
              "2         3          3  ...    2                      Yes\n",
              "3         4          3  ...    1                       No\n",
              "4         6          3  ...    1                      Yes\n",
              "\n",
              "[5 rows x 12 columns]"
            ]
          },
          "metadata": {
            "tags": []
          },
          "execution_count": 35
        }
      ]
    },
    {
      "cell_type": "code",
      "metadata": {
        "id": "X_un_ZkRscGX",
        "colab_type": "code",
        "outputId": "caf7754a-e306-4ea5-93dc-08f607522cb7",
        "colab": {
          "base_uri": "https://localhost:8080/",
          "height": 318
        }
      },
      "source": [
        "# Water requirements met?\n",
        "sns.countplot(y=\"Meets_water_requirement\", data=df)\n",
        "plt.title(\"How many households in Dodeneer meet UN's water requirement?\\n\", fontsize=15)\n",
        "plt.xlabel(\"Number of houses\", fontsize=12)\n",
        "plt.ylabel(\"Is the water requirement met?\", fontsize=12)\n",
        "plt.show()"
      ],
      "execution_count": 38,
      "outputs": [
        {
          "output_type": "display_data",
          "data": {
            "image/png": "[encoded data removed]",
            "text/plain": [
              "<Figure size 432x288 with 1 Axes>"
            ]
          },
          "metadata": {
            "tags": []
          }
        }
      ]
    },
    {
      "cell_type": "markdown",
      "metadata": {
        "id": "KgLuVrlJsnZn",
        "colab_type": "text"
      },
      "source": [
        "**The number of households where the basic water requirements of each person is not met are almost twice the number of those households where these requirements are met!!**\n",
        "<br><br>\n",
        "Indeed, the water imbalance is highly prevalent in Dodeneer. "
      ]
    },
    {
      "cell_type": "markdown",
      "metadata": {
        "id": "I8nz7gmor8El",
        "colab_type": "text"
      },
      "source": [
        "The **Sector** column depicts the sector in which the given house falls. We had divided the whole village into 4 sectors based on the physical attributes of the houses and lanes in each part of the village. There were 4 sectors (1,2,3,4) out of which only sectors 2 and 3 were inhabited by people.\n",
        "* Sector 2 - Most households here had members who were skilled professionals like doctors, teachers, engineers etc.\n",
        "* Sector 3 - Most households were directly dependent on skilled and unskilled (predominantly seasonal) labour\n",
        "<br><br>"
      ]
    },
    {
      "cell_type": "code",
      "metadata": {
        "id": "-jvyQFjNtLw7",
        "colab_type": "code",
        "outputId": "d1251d69-bcf5-4534-eebd-89563c134472",
        "colab": {
          "base_uri": "https://localhost:8080/",
          "height": 278
        }
      },
      "source": [
        "# Sector wise grouping based on Meets water requirement\n",
        "\n",
        "g = sns.FacetGrid(df, col=\"Sector_no\")\n",
        "g.map(sns.countplot, \"Meets_water_requirement\")\n",
        "plt.show()"
      ],
      "execution_count": 45,
      "outputs": [
        {
          "output_type": "stream",
          "text": [
            "/usr/local/lib/python3.6/dist-packages/seaborn/axisgrid.py:715: UserWarning: Using the countplot function without specifying `order` is likely to produce an incorrect plot.\n",
            "  warnings.warn(warning)\n"
          ],
          "name": "stderr"
        },
        {
          "output_type": "display_data",
          "data": {
            "image/png": "[encoded data removed]",
            "text/plain": [
              "<Figure size 432x216 with 2 Axes>"
            ]
          },
          "metadata": {
            "tags": []
          }
        }
      ]
    },
    {
      "cell_type": "markdown",
      "metadata": {
        "id": "df5EGS4Wto16",
        "colab_type": "text"
      },
      "source": [
        "* In sector 2, there are more households where the water requirements are met than those where it is not.\n",
        "* In sector 3 however, more households have issues with basic water requirements than not. "
      ]
    },
    {
      "cell_type": "markdown",
      "metadata": {
        "id": "Qi5ivPtVvJxK",
        "colab_type": "text"
      },
      "source": [
        "#### Conclusion\n",
        "From the above visualizations and analysis, it was evident to the team that our initial understanding of Dodeneer's water trouble was correct and we were able to confirm our PRA's finds.\n",
        "<br>\n",
        "<br>\n",
        "Now, that we had our central idea, we were able to work strongly towards a solution that could benefit the village. We have published our finds and the solution in our paper titled **\"The Impact of Water Distribution Inconsistency in the Rural Settlements of Punjab and to Extrapolate a Nature Based Sustainable Technology to Enhance Livelihood\"** which has been accepted at the ICDSMLA 2019 conference indexed by Scopus."
      ]
    }
  ]
}